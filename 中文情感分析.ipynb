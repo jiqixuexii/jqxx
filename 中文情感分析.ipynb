{
 "cells": [
  {
   "cell_type": "code",
   "execution_count": 1,
   "metadata": {},
   "outputs": [],
   "source": [
    "##加载所需要的库\n",
    "from sklearn.ensemble import RandomForestClassifier\n",
    "from sklearn.linear_model import LogisticRegression\n",
    "from sklearn.metrics import confusion_matrix, classification_report, accuracy_score\n",
    "\n",
    "import csv\n",
    "import pandas as pd\n",
    "import numpy as np\n",
    "import matplotlib.pyplot as plt\n",
    "import jieba\n",
    "import seaborn as sns\n",
    "import re\n",
    "from sklearn.model_selection import cross_val_score\n",
    "\n",
    "#使用 sklearn 包中的 TfidfVectorizer 方法进行特征提取\n",
    "from sklearn.feature_extraction.text import TfidfVectorizer\n"
   ]
  },
  {
   "cell_type": "code",
   "execution_count": 2,
   "metadata": {},
   "outputs": [
    {
     "name": "stdout",
     "output_type": "stream",
     "text": [
      "Praise.shape (55436, 4)\n",
      "Negative_Ratings.shape (53379, 4)\n"
     ]
    }
   ],
   "source": [
    "# 加载好评\n",
    "Praise = pd.read_csv(\"./好评.csv\",names=['ID','class','comment','star'])\n",
    "# 加载差评\n",
    "Negative_Ratings = pd.read_csv(\"./差评.csv\",names=['ID','class','comment','star'])\n",
    "\n",
    "###打印好评和差评形状\n",
    "print(\"Praise.shape\",Praise.shape)\n",
    "print(\"Negative_Ratings.shape\",Negative_Ratings.shape)"
   ]
  },
  {
   "cell_type": "code",
   "execution_count": 3,
   "metadata": {},
   "outputs": [
    {
     "name": "stdout",
     "output_type": "stream",
     "text": [
      "合并后的评论集合: (107450, 4)\n",
      "去除重复评论后的评论集合: (104969, 4)\n"
     ]
    }
   ],
   "source": [
    "# 对好评和差评去重\n",
    "Praise = Praise.drop_duplicates()\n",
    "Negative_Ratings = Negative_Ratings.drop_duplicates()\n",
    "\n",
    "##去掉星级和评分不一致的行，即好评里去掉星级小于3的，差评里去掉星级大于三的\n",
    "Negative_Ratings = Negative_Ratings[ Negative_Ratings['star'] <3]\n",
    "Praise = Praise[Praise['star'] > 3]\n",
    "\n",
    "# 将好评和差评放在同一个DataFrame中\n",
    "Comment_collection = pd.concat([Praise,Negative_Ratings], ignore_index=True)\n",
    "##打印合并后的评论集合\n",
    "print(\"合并后的评论集合:\", Comment_collection.shape)\n",
    "\n",
    "##删除短评内容重复的行\n",
    "Comment_collection = Comment_collection.drop_duplicates('comment')\n",
    "\n",
    "##打印去除重复评论后的评论集合\n",
    "print(\"去除重复评论后的评论集合:\", Comment_collection.shape)"
   ]
  },
  {
   "cell_type": "code",
   "execution_count": 4,
   "metadata": {},
   "outputs": [
    {
     "name": "stdout",
     "output_type": "stream",
     "text": [
      "添加情绪标签: (104969, 5)\n",
      "好评    54296\n",
      "差评    50673\n",
      "Name: class, dtype: int64\n"
     ]
    }
   ],
   "source": [
    "#根据短评星级，添加情绪标签，3星以上为1，3星以下为0\n",
    "# 添加情绪标签\n",
    "Comment_collection['emotion'] = (Comment_collection.star > 3) * 1\n",
    "\n",
    "# 打乱顺序\n",
    "Comment_collection = Comment_collection.sample(frac=1).reset_index(drop=True)\n",
    "print(\"添加情绪标签:\", Comment_collection.shape)\n",
    "\n",
    "##统计情绪评级\n",
    "print(Comment_collection['class'].value_counts())\n"
   ]
  },
  {
   "cell_type": "code",
   "execution_count": 5,
   "metadata": {},
   "outputs": [
    {
     "name": "stderr",
     "output_type": "stream",
     "text": [
      "Building prefix dict from the default dictionary ...\n",
      "Loading model from cache C:\\Users\\张亦凡\\AppData\\Local\\Temp\\jieba.cache\n",
      "Loading model cost 1.404 seconds.\n",
      "Prefix dict has been built successfully.\n"
     ]
    },
    {
     "name": "stdout",
     "output_type": "stream",
     "text": [
      "              ID class                                            comment  \\\n",
      "10       1306861    好评  i think i know why it couldn't get an academy ...   \n",
      "23      25954475    好评           https://movie.douban.com/review/7980263/   \n",
      "88       3395373    好评                                        THE BATMAN！   \n",
      "134      4848115    好评                                                 萌。   \n",
      "150      1865703    差评                                            看不太懂啊哎哟   \n",
      "...          ...   ...                                                ...   \n",
      "104911   1299131    差评                                          已经开始有点烂了~   \n",
      "104938   2209573    差评                          “I love you ”  “So what ”   \n",
      "104948   1293460    差评                                               剧情好薄   \n",
      "104951   1300374    好评  I'm tired, boss, tired of being on the road, l...   \n",
      "104956   1303021    差评                                  不知道 这个不能不能演的更真一点！   \n",
      "\n",
      "        star  emotion cut_jieba  \n",
      "10         4        1            \n",
      "23         4        1            \n",
      "88         5        1            \n",
      "134        4        1            \n",
      "150        2        0            \n",
      "...      ...      ...       ...  \n",
      "104911     2        0            \n",
      "104938     2        0            \n",
      "104948     2        0            \n",
      "104951     5        1            \n",
      "104956     2        0            \n",
      "\n",
      "[4159 rows x 6 columns]\n",
      "去除停用词后不为空的形状： (100810, 6)\n",
      "              ID class                  comment  star  emotion cut_jieba\n",
      "3801     1294408    差评                好是好，看完就忘了     2        0        好看\n",
      "4032    25724855    差评                没觉得多好看！！！     2        0        好看\n",
      "5433     1307914    差评                并没有觉得有多好看     2        0        好看\n",
      "7045     6534248    差评                    啊好看吗？     2        0        好看\n",
      "7613     1295038    差评                    没有书好看     2        0        好看\n",
      "7629     1298070    差评                    好看在哪儿     2        0        好看\n",
      "7877     1296141    差评                  好看的点在哪？     2        0        好看\n",
      "9033     3793023    差评           有这么好看吗？笑点不多哎。。     2        0        好看\n",
      "9319     1862151    差评                   没觉得多好看     2        0        好看\n",
      "9951     1308767    差评                    没有1好看     2        0        好看\n",
      "12196    1302425    差评              不怎么好看的一部电影。     2        0        好看\n",
      "12228   11026735    差评  非常predictable，好看在哪儿了。。。     2        0        好看\n",
      "16517    1304102    差评                 到底好看在哪儿？     2        0        好看\n",
      "17170    1297359    差评             是谁说这片子好看了？？！     1        0        好看\n",
      "19002    1900841    差评                 有这么好看吗……     2        0        好看\n",
      "20358    3287562    差评        实在没看出来这片子有啥好看的。。。     2        0        好看\n",
      "26633    1652587    差评                     好看吗？     2        0        好看\n",
      "31009    1292052    差评                好看在哪儿………？     2        0        好看\n",
      "32133   25917973    差评           大家都觉得好看blalala     1        0        好看\n",
      "32346    1907966    差评                    好看么……     2        0        好看\n",
      "32688    1296996    差评                   还是书好看.     2        0        好看\n",
      "40755    1291844    差评              这是我看过最好看的电影     1        0        好看\n",
      "41055    1300117    差评                 好看吗？不觉得。     2        0        好看\n",
      "42979    1292220    差评                  电影没有书好看     2        0        好看\n",
      "43234    4268598    差评               也没有多好看的嘛……     2        0        好看\n",
      "43958    3592854    差评                 这片子有啥好看？     1        0        好看\n",
      "45000    1300117    差评                     好看个屎     2        0        好看\n",
      "45686    1652587    差评                 好看的点在哪里?     2        0        好看\n",
      "47814    3287562    差评                   没有2好看！     1        0        好看\n",
      "48840    1858711    差评               完全没传说中那么好看     2        0        好看\n",
      "49197    3287562    差评               这儿实在不怎么好看呐     2        0        好看\n",
      "50516    1291999    差评                  有那么好看么。     1        0        好看\n",
      "52649   10808442    差评              后半部分比较好看点..     2        0        好看\n",
      "52920    1418200    差评       没有Becoming Jane 好看     2        0        好看\n",
      "55461    6307447    差评                    好看在那?     2        0        好看\n",
      "58294    4920389    差评                 真的有那么好看吗     1        0        好看\n",
      "65320    3742360    差评               我真没觉得有多好看~     2        0        好看\n",
      "67018    3541415    差评             还真不觉得有多好看...     2        0        好看\n",
      "71074    1907966    差评             真没觉得多好看。。。。。     2        0        好看\n",
      "72540    1292365    差评                  没书好看~~~     2        0        好看\n",
      "72765    1297447    差评                     你真好看     2        0        好看\n",
      "76741    1291578    差评                    好看吗？？     2        0        好看\n",
      "77562    1306249    差评           周片子里不大好看的一部。。。     2        0        好看\n",
      "77867    1307914    差评                 没觉得有那么好看     2        0        好看\n",
      "78509    3541415    差评                      好看p     2        0        好看\n",
      "79781    1858711    差评          没有1 2 好看了，难道我老了     2        0        好看\n",
      "80784    1858711    差评                      好看？     1        0        好看\n",
      "83374    1301753    差评                  有这么好看吗？     2        0        好看\n",
      "83625    1929463    差评           没觉得多好看啊.......     2        0        好看\n",
      "88740    1900841    差评                     好看个屁     2        0        好看\n",
      "92311    1291579    差评                 并没觉得那么好看     2        0        好看\n",
      "94862    3287562    差评               好看么？还是我老了？     2        0        好看\n",
      "96357    1294240    差评        1、2、3.觉得一部没有一部好看。     2        0        好看\n",
      "97677    1291818    差评               我没有觉得有多么好看     2        0        好看\n",
      "99350    4739952    差评                  没捧的那么好看     2        0        好看\n",
      "99841    1301753    差评          为什么那么好看？我怎么不觉得呢     2        0        好看\n",
      "99866    1292287    差评         看过就忘 但看的时候会觉得好看吧     2        0        好看\n",
      "103050   1292223    差评                  没传说中的好看     2        0        好看\n",
      "104071   3287562    差评                  没觉得多少好看     2        0        好看\n",
      "              ID class                            comment  star  emotion  \\\n",
      "7243    26628357    差评                       你们这些豆瓣的就喜欢装B     1        0   \n",
      "11466    1292226    差评                          实在不敢硬说喜欢。     2        0   \n",
      "27194    3287562    差评                    不知道为什么很多人这么喜欢？！     2        0   \n",
      "53034   25814705    差评  所以 你们都喜欢它的啥… @2016-08-30 11:54:12     2        0   \n",
      "57408    1297574    差评                             我比较喜欢2     2        0   \n",
      "72273    1294408    差评                      为什么会说我喜欢这样的电影     1        0   \n",
      "84554    1292220    差评                           为什么这么多喜欢     2        0   \n",
      "100707   1292328    差评                 实在不知道为什么大家这么喜欢这部电影     2        0   \n",
      "\n",
      "       cut_jieba  \n",
      "7243          喜欢  \n",
      "11466         喜欢  \n",
      "27194         喜欢  \n",
      "53034         喜欢  \n",
      "57408         喜欢  \n",
      "72273         喜欢  \n",
      "84554         喜欢  \n",
      "100707        喜欢  \n",
      "(100743, 6)\n"
     ]
    }
   ],
   "source": [
    "##短评内容进行分词并去除停用词\n",
    "def review_without_stop(review):\n",
    "    # 打开停用词文件\n",
    "    with open(\"./emotion_stopwords.txt\",\"r\",encoding=\"utf-8\") as f:\n",
    "        stop_word = [x.strip() for x in f.readlines()] \n",
    "    all_stop_words = set(stop_word) # 删除停用词中重复的项\n",
    "    # 短评中的非中文字符替换为''\n",
    "    review = re.sub(\"[^\\u4e00-\\u9fa5]\",'',review)\n",
    "    # 去除全角空白字符\n",
    "    review = review.replace(\"\\u3000\",\"\") \n",
    "    # 分词\n",
    "    review = jieba.cut(review)\n",
    "    # 过滤一个字的词\n",
    "    review = filter(lambda x: len(x)>1,review)\n",
    "    # 去除停用词\n",
    "    review = filter(lambda x: x not in all_stop_words,review)\n",
    "    return ' '.join(review)\n",
    "\n",
    "# 自定义分词字典\n",
    "jieba.load_userdict(\"./emotion_userdict.txt\")\n",
    "Comment_collection['cut_jieba'] = Comment_collection.comment.apply(review_without_stop)\n",
    "\n",
    "#删除评论分词为空的行\n",
    "# 去除停用词后，一些评论内容为空\n",
    "print(Comment_collection[Comment_collection['cut_jieba'] == ''])\n",
    "\n",
    "##选出去除停用词后不为空的\n",
    "Comment_collection = Comment_collection[~(Comment_collection['cut_jieba'] == '')]\n",
    "print(\"去除停用词后不为空的形状：\",Comment_collection.shape)\n",
    "\n",
    "\n",
    "# 差评中包含一些反问句，包含“好看”，“喜欢”，分词之后只剩余好看\n",
    "print(Comment_collection[(Comment_collection['cut_jieba'] == '好看') & (Comment_collection['emotion'] == 0)])\n",
    "print(Comment_collection[(Comment_collection['cut_jieba'] == '喜欢') & (Comment_collection['emotion'] == 0)])\n",
    "\n",
    "Comment_collection = Comment_collection.drop(Comment_collection[(Comment_collection['cut_jieba'] == '好看') & (Comment_collection['emotion'] == 0)].index)\n",
    "Comment_collection = Comment_collection.drop(Comment_collection[(Comment_collection['cut_jieba'] == '喜欢') & (Comment_collection['emotion'] == 0)].index)\n",
    "\n",
    "print(Comment_collection.shape)"
   ]
  },
  {
   "cell_type": "code",
   "execution_count": 7,
   "metadata": {},
   "outputs": [],
   "source": [
    "from sklearn.model_selection  import train_test_split\n",
    "\n",
    "#建立训练数据集和测试数据集¶\n",
    "X, y = Comment_collection['cut_jieba'], Comment_collection['emotion']\n",
    "\n",
    "x_train, x_test, y_train, y_test = train_test_split(X,y,test_size=0.25,random_state = 10) \n",
    "\n",
    "tfidf_vect = TfidfVectorizer(decode_error='ignore',\n",
    "                             token_pattern=r\"\\b[^\\d\\W]\\w+\\b\", # 剔除向量化结果中的数字\n",
    "                             analyzer='word',\n",
    "                             ngram_range=(2,4),\n",
    "                            max_df = 0.8,\n",
    "                            min_df = 3)\n",
    "Xtrain = tfidf_vect.fit_transform(x_train)\n",
    "Xtest = tfidf_vect.transform(x_test)\n"
   ]
  },
  {
   "cell_type": "code",
   "execution_count": 8,
   "metadata": {},
   "outputs": [
    {
     "data": {
      "image/png": "[encoded data removed]",
      "text/plain": [
       "<Figure size 432x288 with 2 Axes>"
      ]
     },
     "metadata": {
      "needs_background": "light"
     },
     "output_type": "display_data"
    },
    {
     "name": "stdout",
     "output_type": "stream",
     "text": [
      "              precision    recall  f1-score   support\n",
      "\n",
      "           0       0.68      0.28      0.40     12006\n",
      "           1       0.57      0.88      0.69     13180\n",
      "\n",
      "    accuracy                           0.59     25186\n",
      "   macro avg       0.63      0.58      0.54     25186\n",
      "weighted avg       0.62      0.59      0.55     25186\n",
      "\n",
      "朴素贝叶斯测试集准确率为： 0.5932263956166124\n",
      "朴素贝叶斯预测测试集准确率为： 0.6029752960379837\n"
     ]
    }
   ],
   "source": [
    "#用朴素贝叶斯完成中文文本分类器\n",
    "from sklearn.naive_bayes import MultinomialNB\n",
    "review_classifier = MultinomialNB()\n",
    "review_classifier.fit(Xtrain,y_train)\n",
    "\n",
    "# 对测试集的样本进行预测\n",
    "y_pred = review_classifier.predict(Xtest)\n",
    "confusion_matrix(y_test, y_pred) # 混淆矩阵\n",
    "\n",
    "colorMetrics = confusion_matrix(y_test, y_pred)\n",
    "sns.heatmap(colorMetrics,annot=True,fmt='d')\n",
    "plt.show()\n",
    "\n",
    "# 分类报告\n",
    "# 给出每个类的准确率，召回率和F值，以及这三个参数\n",
    "print(classification_report(y_test,y_pred)) \n",
    "\n",
    "print(\"朴素贝叶斯测试集准确率为：\", accuracy_score(y_test, y_pred))\n",
    "#k折交叉验证#\n",
    "score1 = cross_val_score(review_classifier,Xtrain,y_train,cv=10,scoring=\"accuracy\").mean()\n",
    "print(\"朴素贝叶斯预测测试集准确率为：\", score1)\n"
   ]
  },
  {
   "cell_type": "code",
   "execution_count": 9,
   "metadata": {},
   "outputs": [
    {
     "data": {
      "image/png": "[encoded data removed]",
      "text/plain": [
       "<Figure size 432x288 with 2 Axes>"
      ]
     },
     "metadata": {
      "needs_background": "light"
     },
     "output_type": "display_data"
    },
    {
     "name": "stdout",
     "output_type": "stream",
     "text": [
      "逻辑回归精确率、召回率、F1-score:\n",
      "               precision    recall  f1-score   support\n",
      "\n",
      "           0       0.59      0.85      0.69     12006\n",
      "           1       0.77      0.46      0.57     13180\n",
      "\n",
      "    accuracy                           0.64     25186\n",
      "   macro avg       0.68      0.65      0.63     25186\n",
      "weighted avg       0.68      0.64      0.63     25186\n",
      "\n",
      "逻辑回归预测测试集准确率为： 0.6423806876836338\n",
      "逻辑回归预测测试集准确率为： 0.6673371874298203\n"
     ]
    }
   ],
   "source": [
    "# 用逻辑回归完成中文文本分\n",
    "from sklearn.linear_model import LogisticRegression  \n",
    "\n",
    "LR_model = LogisticRegression(penalty='l2',max_iter=3000)  \n",
    "LR_model.fit(Xtrain,y_train)\n",
    "\n",
    "# 对测试集的样本进行预测\n",
    "y_pred = LR_model.predict(Xtest)\n",
    "confusion_matrix(y_test, y_pred) # 混淆矩阵\n",
    "\n",
    "colorMetrics = confusion_matrix(y_test, y_pred)\n",
    "sns.heatmap(colorMetrics,annot=True,fmt='d')\n",
    "plt.show()\n",
    "\n",
    "# 给出每个类的准确率，召回率和F值，以及这三个参数\n",
    "print(\"逻辑回归精确率、召回率、F1-score:\\n\", classification_report(y_test, y_pred))\n",
    "\n",
    "print(\"逻辑回归预测测试集准确率为：\", LR_model.score(Xtest, y_test))\n",
    "#k折交叉验证\n",
    "score2 = cross_val_score(LR_model,Xtrain,y_train,cv=10,scoring=\"accuracy\").mean()\n",
    "print(\"逻辑回归预测测试集准确率为：\", score2)"
   ]
  },
  {
   "cell_type": "code",
   "execution_count": 10,
   "metadata": {},
   "outputs": [],
   "source": [
    "# 利用支持向量机（SVM）来做情感分析预测\n",
    "from sklearn import svm"
   ]
  },
  {
   "cell_type": "code",
   "execution_count": 11,
   "metadata": {},
   "outputs": [
    {
     "name": "stdout",
     "output_type": "stream",
     "text": [
      "训练数据上的准确率为：0.7753748825390103\n",
      "测试数据上的准确率为: 0.6395616612403716\n"
     ]
    },
    {
     "data": {
      "image/png": "[encoded data removed]",
      "text/plain": [
       "<Figure size 432x288 with 2 Axes>"
      ]
     },
     "metadata": {
      "needs_background": "light"
     },
     "output_type": "display_data"
    },
    {
     "name": "stdout",
     "output_type": "stream",
     "text": [
      "逻辑回归精确率、召回率、F1-score:\n",
      "               precision    recall  f1-score   support\n",
      "\n",
      "           0       0.59      0.82      0.68     12006\n",
      "           1       0.74      0.48      0.58     13180\n",
      "\n",
      "    accuracy                           0.64     25186\n",
      "   macro avg       0.66      0.65      0.63     25186\n",
      "weighted avg       0.67      0.64      0.63     25186\n",
      "\n",
      "svm预测测试集准确率为： 0.66109014570755\n"
     ]
    }
   ],
   "source": [
    "# TODO: 初始化SVM模型，并利用模型的fit函数来做训练并打印在训练和测试数据上的准确率，SVM模型的kernel设置成“rbf”核函数\n",
    "svc = svm.SVC(kernel='rbf').fit(Xtrain,y_train)\n",
    "# 打印在训练数据上的准确率\n",
    "print (\"训练数据上的准确率为：\" + str(svc.score(Xtrain, y_train)))\n",
    "# 打印在测试数据上的准确率\n",
    "print (\"测试数据上的准确率为: \" + str(svc.score(Xtest, y_test)))\n",
    "\n",
    "y_pred = svc.predict(Xtest)\n",
    "confusion_matrix(y_test, y_pred) # 混淆矩阵\n",
    "\n",
    "colorMetrics = confusion_matrix(y_test, y_pred)\n",
    "sns.heatmap(colorMetrics,annot=True,fmt='d')\n",
    "plt.show()\n",
    "\n",
    "# 给出每个类的准确率，召回率和F值，以及这三个参数\n",
    "print(\"逻辑回归精确率、召回率、F1-score:\\n\", classification_report(y_test, y_pred))\n",
    "score3 = cross_val_score(svc,Xtrain,y_train,cv=10,scoring=\"accuracy\").mean()\n",
    "print(\"svm预测测试集准确率为：\", score3)"
   ]
  },
  {
   "cell_type": "code",
   "execution_count": 12,
   "metadata": {},
   "outputs": [
    {
     "data": {
      "image/png": "[encoded data removed]",
      "text/plain": [
       "<Figure size 432x288 with 2 Axes>"
      ]
     },
     "metadata": {
      "needs_background": "light"
     },
     "output_type": "display_data"
    },
    {
     "name": "stdout",
     "output_type": "stream",
     "text": [
      "随机森林预测测试集准确率为： 0.6423806876836338\n",
      "随机森林精确率、召回率、F1-score:\n",
      "               precision    recall  f1-score   support\n",
      "\n",
      "           0       0.57      0.86      0.69     12006\n",
      "           1       0.77      0.41      0.53     13180\n",
      "\n",
      "    accuracy                           0.63     25186\n",
      "   macro avg       0.67      0.64      0.61     25186\n",
      "weighted avg       0.67      0.63      0.61     25186\n",
      "\n",
      "随机森林预测测试集准确率为： 0.6447979734987366\n"
     ]
    }
   ],
   "source": [
    "# 用随机森林完成中文文本分类\n",
    "Clf_model = RandomForestClassifier()\n",
    "Clf_model.fit(Xtrain, y_train)\n",
    "\n",
    "# 对测试集的样本进行预测\n",
    "y_pred = Clf_model.predict(Xtest)\n",
    "confusion_matrix(y_test, y_pred)  # 混淆矩阵\n",
    "\n",
    "colorMetrics = confusion_matrix(y_test, y_pred)\n",
    "sns.heatmap(colorMetrics,annot=True,fmt='d')\n",
    "plt.show()\n",
    "\n",
    "print(\"随机森林预测测试集准确率为：\", LR_model.score(Xtest, y_test))\n",
    "\n",
    "# 给出每个类的准确率，召回率和F值，以及这三个参数\n",
    "print(\"随机森林精确率、召回率、F1-score:\\n\", classification_report(y_test, y_pred))\n",
    "score4 = cross_val_score(Clf_model,Xtrain,y_train,cv=10,scoring=\"accuracy\").mean()\n",
    "print(\"随机森林预测测试集准确率为：\", score4)"
   ]
  },
  {
   "cell_type": "code",
   "execution_count": null,
   "metadata": {},
   "outputs": [],
   "source": []
  },
  {
   "cell_type": "code",
   "execution_count": null,
   "metadata": {},
   "outputs": [],
   "source": []
  }
 ],
 "metadata": {
  "kernelspec": {
   "display_name": "Python 3",
   "language": "python",
   "name": "python3"
  },
  "language_info": {
   "codemirror_mode": {
    "name": "ipython",
    "version": 3
   },
   "file_extension": ".py",
   "mimetype": "text/x-python",
   "name": "python",
   "nbconvert_exporter": "python",
   "pygments_lexer": "ipython3",
   "version": "3.8.3"
  }
 },
 "nbformat": 4,
 "nbformat_minor": 4
}
